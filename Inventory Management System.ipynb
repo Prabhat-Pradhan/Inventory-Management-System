{
 "cells": [
  {
   "cell_type": "code",
   "execution_count": 4,
   "metadata": {},
   "outputs": [],
   "source": [
    "inventory = {\n",
    "    0 : {\"item\": \"Amoxicillin\" , \"price\" : 80 , \"quantity\" : 30 , \"category\": \"Antibiotic\" , \"rating\": 9},\n",
    "    1 : {\"item\": \"Azithromycin\" , \"price\" : 80 , \"quantity\" : 100 , \"category\": \"Antibiotic\" , \"rating\": 8},     \n",
    "    2 : {\"item\": \"Paracetamol\" , \"price\" : 40 , \"quantity\" : 10 , \"category\": \"Antipyretic\", \"rating\": 7}, \n",
    "    3 : {\"item\": \"Albuterol\" , \"price\" : 10 , \"quantity\" : 100 , \"category\": \"Dilator\", \"rating\": 8}, \n",
    "    4 : {\"item\": \"Amoxicillin(s)\" , \"price\" : 10 , \"quantity\" : 100 , \"category\": \"AntiBActerial\",\"rating\": 7},   \n",
    "    5 : {\"item\": \"Amoxicillin(m)\" , \"price\" : 20 , \"quantity\" : 100 , \"category\": \"AntiBActerial\", \"rating\": 8}, \n",
    "    6 : {\"item\": \"Amocixillin(l)\" , \"price\" : 40 , \"quantity\" : 50 , \"category\": \"AntiBActerial\", \"rating\": 6},   \n",
    "    7 : {\"item\": \"Cefdinir(s)\" , \"price\" : 10 , \"quantity\" : 300 , \"category\": \"AntiBacterial\", \"rating\": 5},       \n",
    "    8 : {\"item\": \"Nystatin\" , \"price\" : 120 , \"quantity\" : 40 , \"category\": \"AntiFungal\",\"rating\": 9},   \n",
    "    9 : {\"item\": \"Dextromorphan(m)\" , \"price\" : 20 , \"quantity\" : 100 , \"category\": \"Antihistamine\",\"rating\": 8}, \n",
    "    10 : {\"item\": \"Dextromorphan(l)\" , \"price\" : 50 , \"quantity\" : 300 , \"category\": \"Antihistamine\",\"rating\": 10}, \n",
    "    1221 : {\"item\": \"Phenilephrine\" , \"price\" : 10 , \"quantity\" : 200 , \"category\": \"Antihistamine\",\"rating\": 7},     \n",
    "    1222 : {\"item\": \"Triamcinolon\" , \"price\" : 100 , \"quantity\" : 100 , \"category\": \"Steroid\",\"rating\": 2},      \n",
    "    1223 : {\"item\": \"Prednison\" , \"price\" : 5 , \"quantity\" : 200 , \"category\": \"Steroid\",\"rating\": 3},     \n",
    "    1224 : {\"item\": \"Hydrocortisone\" , \"price\" : 70 , \"quantity\" : 80 , \"category\": \"Steroid\",\"rating\": 4},     \n",
    "    1225 : {\"item\": \"Limcee\" , \"price\" : 30 , \"quantity\" : 80 , \"category\": \"Supplement\",\"rating\": 5},    \n",
    "    1226 : {\"item\": \"Becosules\" , \"price\" : 100 , \"quantity\" : 90 , \"category\": \"Supplement\",\"rating\": 8},    \n",
    "    1227 : {\"item\": \"Budenoside\" , \"price\" : 120 , \"quantity\" : 40 , \"category\": \"Steroid\",\"rating\": 9},   \n",
    "    1228 : {\"item\": \"Ciproflaxxin(m)\" , \"price\" : 20 , \"quantity\" : 100 , \"category\": \"Antibiotic\",\"rating\": 8}, \n",
    "    1229 : {\"item\": \"Ciproflaxine(l)\" , \"price\" : 50 , \"quantity\" : 300 , \"category\": \"Antibiotic\",\"rating\": 10}\n",
    "    \n",
    "    \n",
    "}"
   ]
  },
  {
   "cell_type": "code",
   "execution_count": 2,
   "metadata": {},
   "outputs": [
    {
     "name": "stdout",
     "output_type": "stream",
     "text": [
      "Enter product ID:1223\n",
      "Enter Quantity:4\n",
      "product name:  Prednison\n",
      "price per unit:  5\n",
      "amount to be paid:  20\n"
     ]
    }
   ],
   "source": [
    "ui_product = int(input(\"Enter product ID:\"))\n",
    "ui_quantity = int(input(\"Enter Quantity:\"))\n",
    "\n",
    "product = inventory.get(ui_product)\n",
    "\n",
    "if product:\n",
    "  print('product name: ',product.get('item'))\n",
    "  print('price per unit: ', product.get('price'))\n",
    "  print('amount to be paid: ', ui_quantity*product.get('price'))\n",
    "  product['quantity']-=ui_quantity\n",
    "else:\n",
    "  print('product not found')"
   ]
  },
  {
   "cell_type": "code",
   "execution_count": 3,
   "metadata": {},
   "outputs": [],
   "source": [
    "import json\n",
    "\n",
    "file = open('inventory.json', 'w')\n",
    "json.dump(inventory, file )"
   ]
  },
  {
   "cell_type": "code",
   "execution_count": null,
   "metadata": {},
   "outputs": [],
   "source": []
  }
 ],
 "metadata": {
  "kernelspec": {
   "display_name": "Python 3",
   "language": "python",
   "name": "python3"
  },
  "language_info": {
   "codemirror_mode": {
    "name": "ipython",
    "version": 3
   },
   "file_extension": ".py",
   "mimetype": "text/x-python",
   "name": "python",
   "nbconvert_exporter": "python",
   "pygments_lexer": "ipython3",
   "version": "3.8.3"
  }
 },
 "nbformat": 4,
 "nbformat_minor": 4
}
